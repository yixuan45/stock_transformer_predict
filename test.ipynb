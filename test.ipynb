{
 "cells": [
  {
   "cell_type": "code",
   "id": "initial_id",
   "metadata": {
    "collapsed": true,
    "ExecuteTime": {
     "end_time": "2025-10-15T03:24:25.336999Z",
     "start_time": "2025-10-15T03:24:17.206426Z"
    }
   },
   "source": [
    "import numpy as np\n",
    "import pandas as pd\n",
    "import torch\n",
    "import random\n",
    "import matplotlib.pyplot as plt\n",
    "\n",
    "def create_fake_timeseries_data(num_days=500, seed=42):\n",
    "    \"\"\"\n",
    "    生成模拟的温度传感器数据:\n",
    "      - temp(目标) + humidity + day_of_week\n",
    "      - 每天一条记录, 并随机制造部分缺失和异常值\n",
    "    \"\"\"\n",
    "    np.random.seed(seed)\n",
    "    random.seed(seed)\n",
    "\n",
    "    dates = pd.date_range(start=\"2021-01-01\", periods=num_days, freq='D')\n",
    "    day_of_week = dates.dayofweek  # 0=Monday, 6=Sunday\n",
    "\n",
    "    # 模拟温度: baseline=20, 带周期性和噪声\n",
    "    temp = 20 + 5 * np.sin(np.arange(num_days) * 2*np.pi/365) + np.random.randn(num_days)*1.5\n",
    "\n",
    "    # 模拟湿度: 在30~70%之间随机波动\n",
    "    humidity = 50 + 20*np.random.randn(num_days)\n",
    "    humidity = np.clip(humidity, 30, 70)\n",
    "\n",
    "    df = pd.DataFrame({\n",
    "        'date': dates,\n",
    "        'temp': temp,\n",
    "        'humidity': humidity,\n",
    "        'day_of_week': day_of_week\n",
    "    })\n",
    "    df.set_index('date', inplace=True)\n",
    "\n",
    "    # 制造缺失值 (NaN)\n",
    "    for _ in range(5):\n",
    "        idx = np.random.randint(0, num_days)\n",
    "        df.iloc[idx, 0] = np.nan  # 在 temp 列制造缺失\n",
    "    for _ in range(5):\n",
    "        idx = np.random.randint(0, num_days)\n",
    "        df.iloc[idx, 1] = np.nan  # 在 humidity 列制造缺失\n",
    "\n",
    "    # 制造异常值\n",
    "    anom_idx = np.random.randint(0, num_days)\n",
    "    df.iloc[anom_idx, 0] = 200  # 温度异常极高\n",
    "    return df\n",
    "\n",
    "df = create_fake_timeseries_data(num_days=500)\n",
    "\n",
    "print(\"Data sample:\")\n",
    "print(df.head(10))"
   ],
   "outputs": [
    {
     "name": "stdout",
     "output_type": "stream",
     "text": [
      "Data sample:\n",
      "                 temp   humidity  day_of_week\n",
      "date                                         \n",
      "2021-01-01  20.745071  68.523551            4\n",
      "2021-01-02  19.878670  70.000000            5\n",
      "2021-01-03  21.143641  30.000000            6\n",
      "2021-01-04  22.542643  61.259385            0\n",
      "2021-01-05  19.992782  36.987149            1\n",
      "2021-01-06  20.078619  40.257492            2\n",
      "2021-01-07  22.884328  38.152122            3\n",
      "2021-01-08  21.752192  32.720185            4\n",
      "2021-01-09  19.982182        NaN            5\n",
      "2021-01-10  21.585384  33.380998            6\n"
     ]
    }
   ],
   "execution_count": 1
  },
  {
   "metadata": {
    "ExecuteTime": {
     "end_time": "2025-10-15T03:24:25.710147Z",
     "start_time": "2025-10-15T03:24:25.681581Z"
    }
   },
   "cell_type": "code",
   "source": [
    "# 查看缺失值情况\n",
    "missing_count = df.isna().sum()\n",
    "print(\"Missing Values:\\n\", missing_count)\n",
    "\n",
    "# 用前向填充，再用后向填充补充\n",
    "df = df.fillna(method='ffill').fillna(method='bfill')"
   ],
   "id": "6c96437eb0e965fd",
   "outputs": [
    {
     "name": "stdout",
     "output_type": "stream",
     "text": [
      "Missing Values:\n",
      " temp           5\n",
      "humidity       5\n",
      "day_of_week    0\n",
      "dtype: int64\n"
     ]
    },
    {
     "name": "stderr",
     "output_type": "stream",
     "text": [
      "C:\\Users\\yyx\\AppData\\Local\\Temp\\ipykernel_14552\\44038095.py:6: FutureWarning: DataFrame.fillna with 'method' is deprecated and will raise in a future version. Use obj.ffill() or obj.bfill() instead.\n",
      "  df = df.fillna(method='ffill').fillna(method='bfill')\n"
     ]
    }
   ],
   "execution_count": 2
  },
  {
   "metadata": {
    "ExecuteTime": {
     "end_time": "2025-10-15T03:24:28.651222Z",
     "start_time": "2025-10-15T03:24:28.637262Z"
    }
   },
   "cell_type": "code",
   "source": [
    "unreasonable_mask = (df['temp'] < -10) | (df['temp'] > 50)\n",
    "if unreasonable_mask.any():\n",
    "    print(\"Anomaly found, auto-correcting by neighbor values.\")\n",
    "    anomaly_indices = df[unreasonable_mask].index\n",
    "    for idx in anomaly_indices:\n",
    "        # 用前一天或后一天均值替换\n",
    "        df.loc[idx, 'temp'] = (df.loc[idx - pd.Timedelta(days=1), 'temp'] +\n",
    "                               df.loc[idx + pd.Timedelta(days=1), 'temp']) / 2"
   ],
   "id": "64a8c21dcaaf3d51",
   "outputs": [
    {
     "name": "stdout",
     "output_type": "stream",
     "text": [
      "Anomaly found, auto-correcting by neighbor values.\n"
     ]
    }
   ],
   "execution_count": 3
  },
  {
   "metadata": {
    "ExecuteTime": {
     "end_time": "2025-10-15T03:24:34.659251Z",
     "start_time": "2025-10-15T03:24:34.615345Z"
    }
   },
   "cell_type": "code",
   "source": [
    "df['temp_diff'] = df['temp'].diff().fillna(0)  # 对首行差分补0\n",
    "# one-hot\n",
    "df_week = pd.get_dummies(df['day_of_week'], prefix='dow')\n",
    "df = pd.concat([df, df_week], axis=1)\n",
    "\n",
    "df.drop(columns=['day_of_week'], inplace=True)\n",
    "\n",
    "df.head()"
   ],
   "id": "1be6e0c424cb1a39",
   "outputs": [
    {
     "data": {
      "text/plain": [
       "                 temp   humidity  temp_diff  dow_0  dow_1  dow_2  dow_3  \\\n",
       "date                                                                      \n",
       "2021-01-01  20.745071  68.523551   0.000000  False  False  False  False   \n",
       "2021-01-02  19.878670  70.000000  -0.866401  False  False  False  False   \n",
       "2021-01-03  21.143641  30.000000   1.264971  False  False  False  False   \n",
       "2021-01-04  22.542643  61.259385   1.399002   True  False  False  False   \n",
       "2021-01-05  19.992782  36.987149  -2.549861  False   True  False  False   \n",
       "\n",
       "            dow_4  dow_5  dow_6  \n",
       "date                             \n",
       "2021-01-01   True  False  False  \n",
       "2021-01-02  False   True  False  \n",
       "2021-01-03  False  False   True  \n",
       "2021-01-04  False  False  False  \n",
       "2021-01-05  False  False  False  "
      ],
      "text/html": [
       "<div>\n",
       "<style scoped>\n",
       "    .dataframe tbody tr th:only-of-type {\n",
       "        vertical-align: middle;\n",
       "    }\n",
       "\n",
       "    .dataframe tbody tr th {\n",
       "        vertical-align: top;\n",
       "    }\n",
       "\n",
       "    .dataframe thead th {\n",
       "        text-align: right;\n",
       "    }\n",
       "</style>\n",
       "<table border=\"1\" class=\"dataframe\">\n",
       "  <thead>\n",
       "    <tr style=\"text-align: right;\">\n",
       "      <th></th>\n",
       "      <th>temp</th>\n",
       "      <th>humidity</th>\n",
       "      <th>temp_diff</th>\n",
       "      <th>dow_0</th>\n",
       "      <th>dow_1</th>\n",
       "      <th>dow_2</th>\n",
       "      <th>dow_3</th>\n",
       "      <th>dow_4</th>\n",
       "      <th>dow_5</th>\n",
       "      <th>dow_6</th>\n",
       "    </tr>\n",
       "    <tr>\n",
       "      <th>date</th>\n",
       "      <th></th>\n",
       "      <th></th>\n",
       "      <th></th>\n",
       "      <th></th>\n",
       "      <th></th>\n",
       "      <th></th>\n",
       "      <th></th>\n",
       "      <th></th>\n",
       "      <th></th>\n",
       "      <th></th>\n",
       "    </tr>\n",
       "  </thead>\n",
       "  <tbody>\n",
       "    <tr>\n",
       "      <th>2021-01-01</th>\n",
       "      <td>20.745071</td>\n",
       "      <td>68.523551</td>\n",
       "      <td>0.000000</td>\n",
       "      <td>False</td>\n",
       "      <td>False</td>\n",
       "      <td>False</td>\n",
       "      <td>False</td>\n",
       "      <td>True</td>\n",
       "      <td>False</td>\n",
       "      <td>False</td>\n",
       "    </tr>\n",
       "    <tr>\n",
       "      <th>2021-01-02</th>\n",
       "      <td>19.878670</td>\n",
       "      <td>70.000000</td>\n",
       "      <td>-0.866401</td>\n",
       "      <td>False</td>\n",
       "      <td>False</td>\n",
       "      <td>False</td>\n",
       "      <td>False</td>\n",
       "      <td>False</td>\n",
       "      <td>True</td>\n",
       "      <td>False</td>\n",
       "    </tr>\n",
       "    <tr>\n",
       "      <th>2021-01-03</th>\n",
       "      <td>21.143641</td>\n",
       "      <td>30.000000</td>\n",
       "      <td>1.264971</td>\n",
       "      <td>False</td>\n",
       "      <td>False</td>\n",
       "      <td>False</td>\n",
       "      <td>False</td>\n",
       "      <td>False</td>\n",
       "      <td>False</td>\n",
       "      <td>True</td>\n",
       "    </tr>\n",
       "    <tr>\n",
       "      <th>2021-01-04</th>\n",
       "      <td>22.542643</td>\n",
       "      <td>61.259385</td>\n",
       "      <td>1.399002</td>\n",
       "      <td>True</td>\n",
       "      <td>False</td>\n",
       "      <td>False</td>\n",
       "      <td>False</td>\n",
       "      <td>False</td>\n",
       "      <td>False</td>\n",
       "      <td>False</td>\n",
       "    </tr>\n",
       "    <tr>\n",
       "      <th>2021-01-05</th>\n",
       "      <td>19.992782</td>\n",
       "      <td>36.987149</td>\n",
       "      <td>-2.549861</td>\n",
       "      <td>False</td>\n",
       "      <td>True</td>\n",
       "      <td>False</td>\n",
       "      <td>False</td>\n",
       "      <td>False</td>\n",
       "      <td>False</td>\n",
       "      <td>False</td>\n",
       "    </tr>\n",
       "  </tbody>\n",
       "</table>\n",
       "</div>"
      ]
     },
     "execution_count": 4,
     "metadata": {},
     "output_type": "execute_result"
    }
   ],
   "execution_count": 4
  },
  {
   "metadata": {
    "ExecuteTime": {
     "end_time": "2025-10-15T03:25:02.575190Z",
     "start_time": "2025-10-15T03:24:56.562073Z"
    }
   },
   "cell_type": "code",
   "source": [
    "from sklearn.preprocessing import MinMaxScaler\n",
    "\n",
    "feature_cols = ['temp','humidity','temp_diff'] + list(df_week.columns)\n",
    "# 目标: next-day temp，用当前天这些特征\n",
    "\n",
    "scaler = MinMaxScaler()\n",
    "df_scaled = scaler.fit_transform(df[feature_cols].values)\n",
    "# df_scaled shape: (num_days, len(feature_cols))\n",
    "print(\"Scaled shape:\", df_scaled.shape)"
   ],
   "id": "3618d75e58d9ae64",
   "outputs": [
    {
     "name": "stdout",
     "output_type": "stream",
     "text": [
      "Scaled shape: (500, 10)\n"
     ]
    }
   ],
   "execution_count": 5
  },
  {
   "metadata": {
    "ExecuteTime": {
     "end_time": "2025-10-15T03:25:06.046574Z",
     "start_time": "2025-10-15T03:25:06.033907Z"
    }
   },
   "cell_type": "code",
   "source": [
    "import torch\n",
    "from torch.utils.data import Dataset, DataLoader\n",
    "\n",
    "class TimeSeriesDataset(Dataset):\n",
    "    def __init__(self, data_array, seq_len=14, target_col=0):\n",
    "        \"\"\"\n",
    "        :param data_array: 已归一化的 2D numpy, shape=(num_samples, num_features)\n",
    "        :param seq_len: 过去多少天作为输入\n",
    "        :param target_col: temp 对应列索引(这里默认为0)\n",
    "        \"\"\"\n",
    "        self.data = data_array\n",
    "        self.seq_len = seq_len\n",
    "        self.target_col = target_col\n",
    "\n",
    "    def __len__(self):\n",
    "        # 用最后一天预测 => (num - seq_len)\n",
    "        return len(self.data) - self.seq_len\n",
    "\n",
    "    def __getitem__(self, idx):\n",
    "        x = self.data[idx : idx + self.seq_len, :]   # (seq_len, num_features)\n",
    "        y = self.data[idx + self.seq_len, self.target_col]  # 标量\n",
    "        return torch.tensor(x, dtype=torch.float32), torch.tensor(y, dtype=torch.float32)\n",
    "\n",
    "SEQ_LEN = 14\n",
    "TARGET_COL_IDX = 0  # temp在feature_cols中的索引=0\n",
    "dataset = TimeSeriesDataset(df_scaled, seq_len=SEQ_LEN, target_col=TARGET_COL_IDX)\n",
    "\n",
    "# 训练集/测试集划分: 比如前 400 天训练, 后面做测试\n",
    "train_size = 400 - SEQ_LEN\n",
    "train_dataset = TimeSeriesDataset(df_scaled[:400], seq_len=SEQ_LEN, target_col=TARGET_COL_IDX)\n",
    "test_dataset  = TimeSeriesDataset(df_scaled[400:], seq_len=SEQ_LEN, target_col=TARGET_COL_IDX)\n",
    "\n",
    "print(\"Train samples:\", len(train_dataset))\n",
    "print(\"Test  samples:\", len(test_dataset))\n",
    "\n",
    "train_loader = DataLoader(train_dataset, batch_size=32, shuffle=True)\n",
    "test_loader  = DataLoader(test_dataset,  batch_size=32, shuffle=False)"
   ],
   "id": "7fc7cbeb0a80192a",
   "outputs": [
    {
     "name": "stdout",
     "output_type": "stream",
     "text": [
      "Train samples: 386\n",
      "Test  samples: 86\n"
     ]
    }
   ],
   "execution_count": 6
  },
  {
   "metadata": {
    "ExecuteTime": {
     "end_time": "2025-10-15T03:25:20.961374Z",
     "start_time": "2025-10-15T03:25:20.947443Z"
    }
   },
   "cell_type": "code",
   "source": [
    "import torch.nn as nn\n",
    "import math\n",
    "\n",
    "class TimeSeriesTransformer(nn.Module):\n",
    "    def __init__(self, num_features, d_model=32, nhead=4, num_layers=2, dim_feedforward=64, dropout=0.1):\n",
    "        \"\"\"\n",
    "        :param num_features: 输入特征数\n",
    "        :param d_model: Transformer内部词向量维度\n",
    "        :param nhead: Multi-head attention 数\n",
    "        :param num_layers: TransformerEncoderLayer 堆叠层数\n",
    "        :param dim_feedforward: 前馈层大小\n",
    "        :param dropout: dropout 概率\n",
    "        \"\"\"\n",
    "        super(TimeSeriesTransformer, self).__init__()\n",
    "\n",
    "        self.d_model = d_model\n",
    "\n",
    "        # 1) 线性 Embedding: 将 input_dim -> d_model\n",
    "        self.input_embedding = nn.Linear(num_features, d_model)\n",
    "\n",
    "        # 2) 可训练的位置编码 (也可用正余弦位置编码)\n",
    "        self.pos_embedding = nn.Embedding(5000, d_model)  # 5000 仅作最大长度上限\n",
    "\n",
    "        # 3) Transformer Encoder\n",
    "        encoder_layer = nn.TransformerEncoderLayer(d_model=d_model, nhead=nhead,\n",
    "                                                   dim_feedforward=dim_feedforward,\n",
    "                                                   dropout=dropout, batch_first=True)\n",
    "        self.transformer_encoder = nn.TransformerEncoder(encoder_layer, num_layers=num_layers)\n",
    "\n",
    "        # 4) 最终回归输出\n",
    "        self.fc_out = nn.Linear(d_model, 1)\n",
    "\n",
    "    def forward(self, x):\n",
    "        \"\"\"\n",
    "        :param x: shape (batch, seq_len, num_features)\n",
    "        :return: (batch, 1)\n",
    "        \"\"\"\n",
    "        batch_size, seq_len, _ = x.size()\n",
    "\n",
    "        # 线性变换 -> (batch, seq_len, d_model)\n",
    "        x_embed = self.input_embedding(x)\n",
    "\n",
    "        # 构建位置id [0,1,2,... seq_len-1]\n",
    "        positions = torch.arange(seq_len, device=x.device).unsqueeze(0).expand(batch_size, seq_len)\n",
    "        # 位置编码 -> (batch, seq_len, d_model)\n",
    "        pos_embed = self.pos_embedding(positions)\n",
    "\n",
    "        # 将 x_embed + pos_embed 合并\n",
    "        x_trans_in = x_embed + pos_embed  # (batch, seq_len, d_model)\n",
    "\n",
    "        # 通过 TransformerEncoder\n",
    "        encoded = self.transformer_encoder(x_trans_in)  # (batch, seq_len, d_model)\n",
    "\n",
    "        # 取最后时刻的 hidden state\n",
    "        last_step = encoded[:, -1, :]  # (batch, d_model)\n",
    "\n",
    "        # 映射到回归输出\n",
    "        out = self.fc_out(last_step)   # (batch, 1)\n",
    "\n",
    "        return out.squeeze(-1)         # (batch,)"
   ],
   "id": "9542557fdc1e9140",
   "outputs": [],
   "execution_count": 7
  },
  {
   "metadata": {
    "ExecuteTime": {
     "end_time": "2025-10-15T03:25:30.772246Z",
     "start_time": "2025-10-15T03:25:27.809611Z"
    }
   },
   "cell_type": "code",
   "source": [
    "device = torch.device(\"cuda\" if torch.cuda.is_available() else \"cpu\")\n",
    "model = TimeSeriesTransformer(\n",
    "    num_features=len(feature_cols),\n",
    "    d_model=32,\n",
    "    nhead=4,\n",
    "    num_layers=2,\n",
    "    dim_feedforward=64,\n",
    "    dropout=0.1\n",
    ").to(device)\n",
    "\n",
    "criterion = nn.MSELoss()\n",
    "optimizer = torch.optim.Adam(model.parameters(), lr=1e-3)"
   ],
   "id": "ed04f6b46074f4fd",
   "outputs": [],
   "execution_count": 8
  },
  {
   "metadata": {
    "ExecuteTime": {
     "end_time": "2025-10-15T03:27:04.117509Z",
     "start_time": "2025-10-15T03:27:02.512316Z"
    }
   },
   "cell_type": "code",
   "source": [
    "num_epochs = 10\n",
    "model.train()\n",
    "\n",
    "for epoch in range(num_epochs):\n",
    "    epoch_loss = 0.0\n",
    "    for batch_x, batch_y in train_loader:\n",
    "        batch_x = batch_x.to(device)  # (batch, seq_len, feature_dim)\n",
    "        batch_y = batch_y.to(device)  # (batch,)\n",
    "\n",
    "        optimizer.zero_grad()\n",
    "        pred = model(batch_x)  # (batch,)\n",
    "        loss = criterion(pred, batch_y)\n",
    "        loss.backward()\n",
    "        optimizer.step()\n",
    "\n",
    "        epoch_loss += loss.item()\n",
    "\n",
    "    avg_loss = epoch_loss / len(train_loader)\n",
    "    if (epoch+1) % 2 == 0:\n",
    "        print(f\"Epoch [{epoch+1}/{num_epochs}], Loss: {avg_loss:.4f}\")"
   ],
   "id": "1b3358e47dbaf5",
   "outputs": [
    {
     "name": "stdout",
     "output_type": "stream",
     "text": [
      "Epoch [2/10], Loss: 0.0081\n",
      "Epoch [4/10], Loss: 0.0089\n",
      "Epoch [6/10], Loss: 0.0089\n",
      "Epoch [8/10], Loss: 0.0080\n",
      "Epoch [10/10], Loss: 0.0074\n"
     ]
    }
   ],
   "execution_count": 18
  },
  {
   "metadata": {
    "ExecuteTime": {
     "end_time": "2025-10-15T03:27:06.652224Z",
     "start_time": "2025-10-15T03:27:06.624329Z"
    }
   },
   "cell_type": "code",
   "source": [
    "model.eval()\n",
    "preds = []\n",
    "targets = []\n",
    "with torch.no_grad():\n",
    "    for batch_x, batch_y in test_loader:\n",
    "        batch_x = batch_x.to(device)\n",
    "        pred = model(batch_x)  # (batch,)\n",
    "        preds.append(pred.cpu().numpy())\n",
    "        targets.append(batch_y.numpy())\n",
    "\n",
    "import numpy as np\n",
    "preds = np.concatenate(preds)\n",
    "targets = np.concatenate(targets)\n",
    "\n",
    "# 计算MSE, MAE\n",
    "mse_test = np.mean((preds - targets)**2)\n",
    "mae_test = np.mean(np.abs(preds - targets))\n",
    "print(f\"Test MSE: {mse_test:.4f}, Test MAE: {mae_test:.4f}\")"
   ],
   "id": "91f6063bbd2d9628",
   "outputs": [
    {
     "name": "stdout",
     "output_type": "stream",
     "text": [
      "Test MSE: 0.0104, Test MAE: 0.0842\n"
     ]
    }
   ],
   "execution_count": 19
  },
  {
   "metadata": {
    "ExecuteTime": {
     "end_time": "2025-10-15T03:27:09.103348Z",
     "start_time": "2025-10-15T03:27:08.950388Z"
    }
   },
   "cell_type": "code",
   "source": [
    "from sklearn.preprocessing import MinMaxScaler\n",
    "\n",
    "def inverse_transform(values, scaler, feature_index=0):\n",
    "    # values shape=(N,)\n",
    "    # 构造 dummy array: (N, feature_dim)\n",
    "    dummy = np.zeros((len(values), len(feature_cols)))\n",
    "    dummy[:, feature_index] = values\n",
    "    inv = scaler.inverse_transform(dummy)\n",
    "    return inv[:, feature_index]\n",
    "\n",
    "preds_real = inverse_transform(preds, scaler, feature_index=0)\n",
    "targets_real = inverse_transform(targets, scaler, feature_index=0)\n",
    "\n",
    "plt.figure(figsize=(8,4))\n",
    "plt.plot(targets_real, label='True Temp')\n",
    "plt.plot(preds_real, label='Pred Temp', alpha=0.7)\n",
    "plt.title(\"Transformer Time Series Prediction (Test Set)\")\n",
    "plt.legend()\n",
    "plt.show()"
   ],
   "id": "f117e15e2311c5cd",
   "outputs": [
    {
     "data": {
      "text/plain": [
       "<Figure size 800x400 with 1 Axes>"
      ],
      "image/png": "[encoded data removed]"
     },
     "metadata": {},
     "output_type": "display_data"
    }
   ],
   "execution_count": 20
  },
  {
   "metadata": {},
   "cell_type": "code",
   "outputs": [],
   "execution_count": null,
   "source": "",
   "id": "506eabdb319013e7"
  }
 ],
 "metadata": {
  "kernelspec": {
   "display_name": "Python 3",
   "language": "python",
   "name": "python3"
  },
  "language_info": {
   "codemirror_mode": {
    "name": "ipython",
    "version": 2
   },
   "file_extension": ".py",
   "mimetype": "text/x-python",
   "name": "python",
   "nbconvert_exporter": "python",
   "pygments_lexer": "ipython2",
   "version": "2.7.6"
  }
 },
 "nbformat": 4,
 "nbformat_minor": 5
}
