{
 "cells": [
  {
   "cell_type": "code",
   "id": "initial_id",
   "metadata": {
    "collapsed": true,
    "ExecuteTime": {
     "end_time": "2025-10-09T02:00:53.782065Z",
     "start_time": "2025-10-09T02:00:50.765619Z"
    }
   },
   "source": [
    "import pandas as pd\n",
    "import numpy as np"
   ],
   "outputs": [],
   "execution_count": 1
  },
  {
   "metadata": {
    "ExecuteTime": {
     "end_time": "2025-10-09T02:00:54.098379Z",
     "start_time": "2025-10-09T02:00:53.824192Z"
    }
   },
   "cell_type": "code",
   "source": "data=pd.read_csv('./data/eth_data.csv')",
   "id": "6721fc6e13edfddc",
   "outputs": [],
   "execution_count": 2
  },
  {
   "metadata": {
    "ExecuteTime": {
     "end_time": "2025-10-09T02:00:54.782837Z",
     "start_time": "2025-10-09T02:00:54.751921Z"
    }
   },
   "cell_type": "code",
   "source": "data.head()",
   "id": "1b572f444266089c",
   "outputs": [
    {
     "data": {
      "text/plain": [
       "               t        o        h        l        c         v            qv\n",
       "0  1735689600000  3336.58  3337.28  3334.76  3337.25  1138.373  3.797686e+06\n",
       "1  1735689660000  3337.25  3338.41  3336.48  3338.40   708.214  2.363459e+06\n",
       "2  1735689720000  3338.40  3341.86  3338.05  3341.86  1947.567  6.505307e+06\n",
       "3  1735689780000  3341.86  3341.87  3338.22  3339.50   671.721  2.243730e+06\n",
       "4  1735689840000  3339.50  3341.56  3339.12  3339.41   532.730  1.779639e+06"
      ],
      "text/html": [
       "<div>\n",
       "<style scoped>\n",
       "    .dataframe tbody tr th:only-of-type {\n",
       "        vertical-align: middle;\n",
       "    }\n",
       "\n",
       "    .dataframe tbody tr th {\n",
       "        vertical-align: top;\n",
       "    }\n",
       "\n",
       "    .dataframe thead th {\n",
       "        text-align: right;\n",
       "    }\n",
       "</style>\n",
       "<table border=\"1\" class=\"dataframe\">\n",
       "  <thead>\n",
       "    <tr style=\"text-align: right;\">\n",
       "      <th></th>\n",
       "      <th>t</th>\n",
       "      <th>o</th>\n",
       "      <th>h</th>\n",
       "      <th>l</th>\n",
       "      <th>c</th>\n",
       "      <th>v</th>\n",
       "      <th>qv</th>\n",
       "    </tr>\n",
       "  </thead>\n",
       "  <tbody>\n",
       "    <tr>\n",
       "      <th>0</th>\n",
       "      <td>1735689600000</td>\n",
       "      <td>3336.58</td>\n",
       "      <td>3337.28</td>\n",
       "      <td>3334.76</td>\n",
       "      <td>3337.25</td>\n",
       "      <td>1138.373</td>\n",
       "      <td>3.797686e+06</td>\n",
       "    </tr>\n",
       "    <tr>\n",
       "      <th>1</th>\n",
       "      <td>1735689660000</td>\n",
       "      <td>3337.25</td>\n",
       "      <td>3338.41</td>\n",
       "      <td>3336.48</td>\n",
       "      <td>3338.40</td>\n",
       "      <td>708.214</td>\n",
       "      <td>2.363459e+06</td>\n",
       "    </tr>\n",
       "    <tr>\n",
       "      <th>2</th>\n",
       "      <td>1735689720000</td>\n",
       "      <td>3338.40</td>\n",
       "      <td>3341.86</td>\n",
       "      <td>3338.05</td>\n",
       "      <td>3341.86</td>\n",
       "      <td>1947.567</td>\n",
       "      <td>6.505307e+06</td>\n",
       "    </tr>\n",
       "    <tr>\n",
       "      <th>3</th>\n",
       "      <td>1735689780000</td>\n",
       "      <td>3341.86</td>\n",
       "      <td>3341.87</td>\n",
       "      <td>3338.22</td>\n",
       "      <td>3339.50</td>\n",
       "      <td>671.721</td>\n",
       "      <td>2.243730e+06</td>\n",
       "    </tr>\n",
       "    <tr>\n",
       "      <th>4</th>\n",
       "      <td>1735689840000</td>\n",
       "      <td>3339.50</td>\n",
       "      <td>3341.56</td>\n",
       "      <td>3339.12</td>\n",
       "      <td>3339.41</td>\n",
       "      <td>532.730</td>\n",
       "      <td>1.779639e+06</td>\n",
       "    </tr>\n",
       "  </tbody>\n",
       "</table>\n",
       "</div>"
      ]
     },
     "execution_count": 3,
     "metadata": {},
     "output_type": "execute_result"
    }
   ],
   "execution_count": 3
  },
  {
   "metadata": {
    "ExecuteTime": {
     "end_time": "2025-10-09T02:00:54.953078Z",
     "start_time": "2025-10-09T02:00:54.935099Z"
    }
   },
   "cell_type": "code",
   "source": "data.columns",
   "id": "e6253a7a594a5c0d",
   "outputs": [
    {
     "data": {
      "text/plain": [
       "Index(['t', 'o', 'h', 'l', 'c', 'v', 'qv'], dtype='object')"
      ]
     },
     "execution_count": 4,
     "metadata": {},
     "output_type": "execute_result"
    }
   ],
   "execution_count": 4
  },
  {
   "metadata": {
    "ExecuteTime": {
     "end_time": "2025-10-09T02:00:55.168839Z",
     "start_time": "2025-10-09T02:00:55.156184Z"
    }
   },
   "cell_type": "code",
   "source": "cur_data=data[-10000:]",
   "id": "7f29da6b1501f3c1",
   "outputs": [],
   "execution_count": 5
  },
  {
   "metadata": {
    "ExecuteTime": {
     "end_time": "2025-10-09T02:00:55.405663Z",
     "start_time": "2025-10-09T02:00:55.336848Z"
    }
   },
   "cell_type": "code",
   "source": "cur_data.to_csv('./data/min_eth_data.csv',index=False)",
   "id": "6879fb4875f4364a",
   "outputs": [],
   "execution_count": 6
  },
  {
   "metadata": {
    "ExecuteTime": {
     "end_time": "2025-09-30T10:03:07.856765Z",
     "start_time": "2025-09-30T10:03:07.842727Z"
    }
   },
   "cell_type": "code",
   "source": "",
   "id": "3890ea03f8df47ee",
   "outputs": [],
   "execution_count": null
  }
 ],
 "metadata": {
  "kernelspec": {
   "display_name": "Python 3",
   "language": "python",
   "name": "python3"
  },
  "language_info": {
   "codemirror_mode": {
    "name": "ipython",
    "version": 2
   },
   "file_extension": ".py",
   "mimetype": "text/x-python",
   "name": "python",
   "nbconvert_exporter": "python",
   "pygments_lexer": "ipython2",
   "version": "2.7.6"
  }
 },
 "nbformat": 4,
 "nbformat_minor": 5
}
